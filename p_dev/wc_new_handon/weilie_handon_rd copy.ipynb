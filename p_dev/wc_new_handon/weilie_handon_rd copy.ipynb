{
 "cells": [
  {
   "cell_type": "code",
   "execution_count": 10,
   "id": "17dcd4dc",
   "metadata": {},
   "outputs": [
    {
     "name": "stdout",
     "output_type": "stream",
     "text": [
      "13\n",
      "137\n"
     ]
    }
   ],
   "source": [
    "\"\"\" based on the input digits , find the odd number and combine them to the\n",
    "smallest number \"\"\"\n",
    "\n",
    "def solution(num):\n",
    "    num_str = str(num)\n",
    "    num_str = sorted(num_str)\n",
    "    num_ls = []\n",
    "    for n in num_str:\n",
    "        if int(n)%2 != 0:\n",
    "            num_ls.append(n)\n",
    "    if len(num_ls) == 0:\n",
    "        return 0\n",
    "    \n",
    "    result = int(''.join(num_ls))\n",
    "    print(result)\n",
    "    return result\n",
    "\n",
    "\n",
    "\n",
    "assert solution(1234) == 13\n",
    "assert solution(13876) == 137\n",
    "assert solution(0) == 0"
   ]
  },
  {
   "cell_type": "code",
   "execution_count": 12,
   "id": "c8a6aa8c",
   "metadata": {},
   "outputs": [
    {
     "name": "stdout",
     "output_type": "stream",
     "text": [
      "11000\n",
      "87631\n",
      "0\n"
     ]
    }
   ],
   "source": [
    "\"\"\"\n",
    "providing a digital of string, like 10001 return the max number like 11000 \n",
    "\"\"\"\n",
    "def solution(strs):\n",
    "    if strs == \"\":\n",
    "        return None\n",
    "    \n",
    "    str_ls = sorted(strs, reverse = True)\n",
    "    strnum = int(''.join(str_ls))\n",
    "    print(strnum)\n",
    "    return strnum\n",
    "\n",
    "\n",
    "# print(solution('10001'))\n",
    "\n",
    "assert solution('10001') == 11000\n",
    "assert solution('13876') == 87631\n",
    "assert solution(\"\")== None\n",
    "assert solution('0') == 0"
   ]
  },
  {
   "cell_type": "code",
   "execution_count": 6,
   "id": "bedf2ab2",
   "metadata": {},
   "outputs": [
    {
     "name": "stdout",
     "output_type": "stream",
     "text": [
      "2.5\n"
     ]
    }
   ],
   "source": [
    "\"\"\"\n",
    "avg the list \n",
    "\"\"\"\n",
    "\n",
    "def solution (ls):\n",
    "    if ls == 0:\n",
    "        return None \n",
    "    elif not isinstance(ls, list):\n",
    "        return None\n",
    "    else:\n",
    "        ls_new = []\n",
    "        for i in ls:\n",
    "            if not str(i).isdigit():\n",
    "                return None\n",
    "            else:\n",
    "                ls_new.append(int(i))\n",
    "        return sum(ls_new)/len(ls_new)\n",
    "\n",
    "# ls = [1,2,3,4]\n",
    "ls = [1,2,3,'4']\n",
    "# ls = [1,2,3,'b']\n",
    "# ls = []\n",
    "# ls = 'abc'\n",
    "\n",
    "print(solution(ls))\n"
   ]
  },
  {
   "cell_type": "code",
   "execution_count": null,
   "id": "292870a5",
   "metadata": {},
   "outputs": [
    {
     "name": "stdout",
     "output_type": "stream",
     "text": [
      "books >shelves \n",
      "False\n"
     ]
    }
   ],
   "source": [
    "\"\"\" \n",
    "given the maximum book size that each shelf can store (also known as its capacity)\n",
    "and the size of each books, \n",
    "determine if all the books can fit on the shelves, assume that only one book can be place on each self\n",
    "\"\"\"\n",
    "\"\"\"\n",
    "same logic for the budgets for how many book could buy\n",
    "\"\"\"\n",
    "\n",
    "\n",
    "def solution( shelves,books):\n",
    "    if len(books) > len(shelves):\n",
    "        print(\"books >shelves \")\n",
    "        return False\n",
    "    elif max(books)> max(shelves):\n",
    "\n",
    "        print(\"max books >shelves \")\n",
    "        return False\n",
    "    \n",
    "    else:\n",
    "        books = sorted(books, reverse = True)\n",
    "        shelves = sorted(shelves, reverse = True)\n",
    "        print(shelves)\n",
    "        print(books)\n",
    "        for idx , book in enumerate(books):\n",
    "            if book >= shelves[idx]:\n",
    "                return False\n",
    "\n",
    "            else: \n",
    "                return True\n",
    "\n",
    "# shelves = [2,3,4,6]\n",
    "# books = [3,1,2,2]\n",
    "# expected output: True \n",
    "# books fit across shelves 6,4,3 \n",
    "\n",
    "\n",
    "\n",
    "# shelves = [2,4,3]\n",
    "# books = [3,1,4,2]\n",
    "# expected output: False \n",
    "# not enough space for all books \n",
    "\n",
    "# shelves = [5,2]\n",
    "# books = [3,3,2]\n",
    "# expected output: False \n",
    "\n",
    "# shelves = [2,3,4]\n",
    "# books = [6]\n",
    "# expected output: False \n",
    "\n",
    "print(solution(shelves, books))"
   ]
  },
  {
   "cell_type": "code",
   "execution_count": 15,
   "id": "97b22b87",
   "metadata": {},
   "outputs": [
    {
     "data": {
      "text/plain": [
       "350"
      ]
     },
     "execution_count": 15,
     "metadata": {},
     "output_type": "execute_result"
    }
   ],
   "source": [
    "\"\"\" \n",
    "Given a dictionary where keys are years and values are customer counts, \n",
    "finding the maximum customer count for any two consecutive years\n",
    "\"\"\"\n",
    "\n",
    "customer_by_year = {\n",
    "    2020 : 150,\n",
    "    2019 : 100,\n",
    "    2021: 200,\n",
    "    2018: 120\n",
    "}\n",
    "\n",
    "def  solution(dic):\n",
    "    year_sorted = sorted([year for year in dic.keys()])\n",
    "\n",
    "    cur = 0\n",
    "    max_c=0\n",
    "    for year in year_sorted:\n",
    "        if year + 1 in year_sorted:\n",
    "            cur = dic[year]+dic[year+1]\n",
    "            max_c = max(cur, max_c)\n",
    "    return max_c\n",
    "    \n",
    "\n",
    "\n",
    "solution(customer_by_year)\n",
    "\n"
   ]
  },
  {
   "cell_type": "code",
   "execution_count": 14,
   "id": "227a76c0",
   "metadata": {},
   "outputs": [
    {
     "name": "stdout",
     "output_type": "stream",
     "text": [
      "10\n"
     ]
    }
   ],
   "source": [
    "\"\"\" \n",
    "you are given a list of tuples, where each tuple contains 2 elements :(price, sales).\n",
    "each tuple represents a book, where prices is the prices of the books, and sales is the number of copies sold.\n",
    "function that returns the nth most purchased books, if there is a tie in the number of sales, \n",
    "return the book with lowest prices among the tied books.\n",
    "\"\"\"\n",
    "\"\"\" \n",
    "input : [(10,100),(15,80),(20, 100),(5,50)] , n = 1\n",
    "output:  10\n",
    "\"\"\"\n",
    "\n",
    "books = [(10,100),(15,80),(20, 100),(5,50)]\n",
    "n =1\n",
    "\n",
    "def solution(books, n):\n",
    "    books_dict = {}\n",
    "    for i in books:\n",
    "        price  = i[0]\n",
    "        sales  = i[1]\n",
    "        if price  in books_dict:\n",
    "            books_dict[price] = books_dict.get(price,0)+sales\n",
    "        else:\n",
    "            books_dict[price] = sales\n",
    "\n",
    "    pricelist  = sorted([p for p in books_dict.keys()])\n",
    "\n",
    "    return pricelist[n]\n",
    "\n",
    "\n",
    "print(solution(books,n))\n",
    "    "
   ]
  },
  {
   "cell_type": "code",
   "execution_count": 17,
   "id": "616dc3b8",
   "metadata": {},
   "outputs": [
    {
     "name": "stdout",
     "output_type": "stream",
     "text": [
      "['green tree', 'green v1', 'python 2nd edition']\n"
     ]
    }
   ],
   "source": [
    "\"\"\"\n",
    "providing the list of the book titles, and find the sequels\n",
    "\n",
    "\"\"\"\n",
    "\n",
    "def solution(books):\n",
    "    books = sorted(books)\n",
    "    check_books = books\n",
    "    result_ls = []\n",
    "\n",
    "    for book in books:\n",
    "        for cb in check_books:\n",
    "            if cb.startswith(book) and book != cb:\n",
    "                result_ls.append(cb)\n",
    "    return result_ls\n",
    "\n",
    "\n",
    "# books1 = ['python','python v1','python v2','green','green v1','python 2nd edition','green tree', 'green tree in forest']\n",
    "books1 = ['python','green','green v1','python 2nd edition','green tree', 'gree tree in forest']\n",
    "print(solution(books1))"
   ]
  },
  {
   "cell_type": "code",
   "execution_count": 19,
   "id": "99f03601",
   "metadata": {},
   "outputs": [
    {
     "name": "stdout",
     "output_type": "stream",
     "text": [
      "[None, 2, 3, 3, 3, 6, 6, 8]\n"
     ]
    }
   ],
   "source": [
    "\"\"\" \n",
    "given an array containing None values, fill in the array with most recent None value, \n",
    "if the list starts with None, then donot do anything to it \n",
    "ensure you take care of case input [None] which mean None object\n",
    "\"\"\"\n",
    "\n",
    "def solution(ls):\n",
    "    pre = None\n",
    "    ls_new =[]\n",
    "    for i in ls :\n",
    "        if i == None:\n",
    "            ls_new.append(pre)\n",
    "        else:\n",
    "            ls_new.append(i)\n",
    "            pre = i\n",
    "    return ls_new\n",
    "\n",
    "# ls = [1,None,3,None,None,6,None,8]\n",
    "ls = [None,2,3,None,None,6,None,8]\n",
    "print(solution(ls))\n"
   ]
  },
  {
   "cell_type": "code",
   "execution_count": 22,
   "id": "071bd929",
   "metadata": {},
   "outputs": [
    {
     "name": "stdout",
     "output_type": "stream",
     "text": [
      "{'fig', 'apple', 'elderberry', 'cherry'}\n"
     ]
    }
   ],
   "source": [
    "\"\"\" \n",
    "complete a function that return a list containing mismatched words in 2 strings. \n",
    "the return list can be in any order\n",
    "\"\"\"\n",
    "\n",
    "ls1 = ['banana','date','cherry','apple']\n",
    "ls2 = ['banana','date','elderberry','fig']\n",
    "\n",
    "def solution(ls1, ls2):\n",
    "    set1 = set(ls1)\n",
    "    set2 = set(ls2)\n",
    "\n",
    "    diff1 = set1 - set2\n",
    "    diff2 = set2 - set1\n",
    "\n",
    "    return(diff1.union(diff2))\n",
    "\n",
    "\n",
    "\n",
    "print(solution(ls1,ls2))\n"
   ]
  },
  {
   "cell_type": "code",
   "execution_count": 25,
   "id": "b206f998",
   "metadata": {},
   "outputs": [
    {
     "name": "stdout",
     "output_type": "stream",
     "text": [
      "{2: 1}\n"
     ]
    }
   ],
   "source": [
    "\"\"\" \n",
    "balance list\n",
    "example ls = [1,1,2] output = {2:1} add 1 more 2 to the list will have [1,1,2,2]\n",
    "\"\"\"\n",
    "\n",
    "ls = [1,1,2]\n",
    "# ls = [1,2,2,3,5,1,1]\n",
    "# ls =[]\n",
    "# ls = [1,1,1]\n",
    "\n",
    "def solution(ls):\n",
    "    num_c = {}\n",
    "    for i in ls:\n",
    "        if i in num_c:\n",
    "            num_c[i] = num_c.get(i,0)+1\n",
    "        else:\n",
    "            num_c[i] = 1\n",
    "\n",
    "    max_v= max([v for v in num_c.values()])\n",
    "    result = {}\n",
    "    for k, v in num_c.items():\n",
    "        if v != max_v:\n",
    "            result[k] = max_v - v\n",
    "    return result\n",
    "\n",
    "\n",
    "print(solution(ls))\n"
   ]
  },
  {
   "cell_type": "code",
   "execution_count": 33,
   "id": "7b838d0f",
   "metadata": {},
   "outputs": [
    {
     "name": "stdout",
     "output_type": "stream",
     "text": [
      "3.0\n",
      "6.0\n",
      "5.0\n",
      "4.6\n",
      "passed\n"
     ]
    }
   ],
   "source": [
    "# Calculate the average word length.\n",
    "# For the given set of words return the average word length.\n",
    "\n",
    "\n",
    "def avg_word_length(sen):\n",
    "    if len(sen) == 0:\n",
    "        return  None\n",
    "    else:\n",
    "        sen = sen.strip()\n",
    "        sen_ls = sen.split(' ')\n",
    "\n",
    "        sum_word = 0\n",
    "        for w in sen_ls:\n",
    "            sum_word+= len(w)\n",
    "        \n",
    "        result  = sum_word /len(sen_ls)\n",
    "        print(result)\n",
    "        return result\n",
    "\n",
    "assert avg_word_length('') == None\n",
    "assert avg_word_length('ibm') == 3\n",
    "assert avg_word_length('ibm microsoft') == 6\n",
    "assert avg_word_length(' Hello World ') == 5\n",
    "assert avg_word_length('The movie ends with The-end') == 4.6\n",
    "print('passed')\n"
   ]
  },
  {
   "cell_type": "code",
   "execution_count": null,
   "id": "866b7a26",
   "metadata": {},
   "outputs": [
    {
     "name": "stdout",
     "output_type": "stream",
     "text": [
      "passed\n"
     ]
    }
   ],
   "source": [
    "# Check if a given IP address is valid.\n",
    "# A valid IP address must be in the form of xxx.xxx.xxx.xxx,\n",
    "# where xxx is a number from 0-255\n",
    "\n",
    "# For example:\n",
    "#           - 256.1.2.3 is not a valid IP address because the\n",
    "#             first octet number is greater than 255\n",
    "#           - 245.1.2 is not a valid IP address because\n",
    "#             it has only 3 octets\n",
    "\n",
    "# Note: We recommend you do NOT use regex to solve this question\n",
    "# as it can be difficult and time consuming to debug. You may however, do\n",
    "# so if you wish.\n",
    "\n",
    "\n",
    "\n",
    "\n",
    "\n",
    "\n",
    "assert is_valid_IP('') == False\n",
    "assert is_valid_IP('127.0.0.1') == True\n",
    "assert is_valid_IP('127.0.0.100') == True\n",
    "assert is_valid_IP('192.34.0.0.1') == False\n",
    "assert is_valid_IP('192.3.0.1') == True\n",
    "assert is_valid_IP('192.289.25.10') == False\n",
    "assert is_valid_IP('192.289.25') == False\n",
    "assert is_valid_IP('a12.A.29.5') == False\n",
    "print('passed')\n"
   ]
  },
  {
   "cell_type": "code",
   "execution_count": 43,
   "id": "0c8599e4",
   "metadata": {},
   "outputs": [
    {
     "name": "stdout",
     "output_type": "stream",
     "text": [
      "{'A': 0, 'B': 0, 'C': 0, 'D': 0, 'E': 0}\n",
      "{'A': 1, 'B': 1, 'C': 1, 'D': 1, 'E': 1, 'F': 1}\n",
      "{'A': 3, 'B': 1, 'C': 1, 'D': 1, 'E': 0}\n",
      "{'A': 2, 'B': 2, 'C': 2}\n",
      "{'A': 2, 'B': 3, 'C': 2, 'D': 1, 'E': 0}\n",
      "passed\n"
     ]
    }
   ],
   "source": [
    "# Calculate the number of friends for each person\n",
    "# given a relationship graph.\n",
    "#\n",
    "#\n",
    "# For example:\n",
    "#   The relationships amongst a set of friends\n",
    "#   are shown in the graph below, where a line\n",
    "#   between 2 nodes represents a friendship:\n",
    "#\n",
    "#                A ----- B ----- D\n",
    "#                |       |\n",
    "#                |       |\n",
    "#                |       |\n",
    "#                C ------/      E\n",
    "#\n",
    "#   This graph is represented as a list of\n",
    "#   lists:\n",
    "#      graph = [[A,B],[A,C],[C,B],[B,D],[E]]\n",
    "#\n",
    "#   The function \"count_friends(graph)\" should return\n",
    "#   a dictionary object, where the Key is the\n",
    "#   person's name and the Value is the number of\n",
    "#   friends.\n",
    "#\n",
    "#   In the above example, the function should\n",
    "#   return the following output:\n",
    "#     {'A': 2, 'B': 3, 'C': 2, 'D': 1, 'E': 0}\n",
    "\n",
    "\n",
    "\n",
    "\n",
    "graph = [['A'],['B'],['C'],['D'],['E']]\n",
    "\n",
    "# result  = count_friends(graph)\n",
    "# print(result.keys())\n",
    "\n",
    "def count_friends(graph):\n",
    "    f_c = {}\n",
    "    for group in graph:\n",
    "        if len(group) == 1:\n",
    "            if group[0] in f_c:\n",
    "                f_c[group[0]] = f_c.get(group[0],0)+0\n",
    "            else:\n",
    "                f_c[group[0]] = 0\n",
    "        else:\n",
    "            for people in group :\n",
    "                if people in f_c:\n",
    "                    f_c[people] = f_c.get(people, 0)+1\n",
    "                else:\n",
    "                    f_c[people] = 1\n",
    "    print(f_c)\n",
    "    return f_c\n",
    "\n",
    "def check_results(dic1, dic2):\n",
    "    if len(dic1.keys()) != len(dic1.keys()):\n",
    "        return 1\n",
    "    else:\n",
    "        for k, v in dic1.items():\n",
    "            if dic2[k]!=v:\n",
    "                return 1\n",
    "        return 0\n",
    "            \n",
    "        \n",
    "        \n",
    "\n",
    " \n",
    "\n",
    "\n",
    "assert check_results(count_friends([['A'],['B'],['C'],['D'],['E']]), {'A': 0, 'C': 0, 'B': 0, 'D': 0, 'E': 0}) == 0\n",
    "assert check_results(count_friends([['A','B'],['C','D'],['E','F']]), {'A': 1, 'C': 1, 'B': 1, 'E': 1, 'D': 1, 'F': 1}) == 0\n",
    "assert check_results(count_friends([['A','B'],['A','C'],['A','D'],['E']]), {'A': 3, 'C': 1, 'B': 1, 'E': 0, 'D': 1}) == 0\n",
    "assert check_results(count_friends([['A','B'],['A','C'],['C','B']]), {'A': 2, 'C': 2, 'B': 2}) == 0\n",
    "assert check_results(count_friends([['A','B'],['A','C'],['C','B'],['B','D'],['E']]), {'A': 2, 'C': 2, 'B': 3, 'E': 0, 'D': 1}) == 0\n",
    "print('passed')"
   ]
  },
  {
   "cell_type": "code",
   "execution_count": 44,
   "id": "56dbe329",
   "metadata": {},
   "outputs": [],
   "source": [
    "\"\"\"\n",
    "Write a function that returns the elements on odd positions (0 based) in a list\n",
    "\"\"\"\n",
    "\n",
    "def solution(ls):\n",
    "    rs = []\n",
    "    for idx, n in enumerate(ls):\n",
    "        if idx %2 != 0:\n",
    "            rs.append(n)\n",
    "\n",
    "    return rs\n",
    "\n",
    "\n",
    "\n",
    "assert solution([0,1,2,3,4,5]) == [1,3,5]\n",
    "assert solution([1,-1,2,-2]) == [-1,-2] "
   ]
  },
  {
   "cell_type": "code",
   "execution_count": 47,
   "id": "87d23f59",
   "metadata": {},
   "outputs": [],
   "source": [
    "\"\"\" Write a function that returns the cumulative sum of elements in a list\n",
    "\"\"\"\n",
    "def solution(ls):\n",
    "    cur = 0\n",
    "    re=[]\n",
    "    for i in ls:\n",
    "        cur += i\n",
    "        re.append(cur)\n",
    "    return re\n",
    "\n",
    "assert solution([1,1,1]) == [1,2,3] \n",
    "assert solution([1,-1,3]) == [1,0,3]\n"
   ]
  },
  {
   "cell_type": "code",
   "execution_count": 51,
   "id": "1f0e2ada",
   "metadata": {},
   "outputs": [],
   "source": [
    "\"\"\"Write a function that takes a number and returns a list of its digits\"\"\"\n",
    "\n",
    "\n",
    "def solution(num):\n",
    "    num_str = str(num)\n",
    "    ls = [int(i) for i in num_str]\n",
    "    return ls\n",
    "\n",
    "assert solution(123) == [1,2,3]\n",
    "assert solution(400) == [4,0,0] \n"
   ]
  },
  {
   "cell_type": "code",
   "execution_count": null,
   "id": "437f9353",
   "metadata": {},
   "outputs": [],
   "source": [
    "\n",
    "\"\"\" \n",
    "Return the \"centered\" average of an array of ints, which we'll say is\n",
    "the mean average of the values, except ignoring the largest and smallest values in the array. \n",
    "If there are multiple copies of the smallest value, ignore just one copy, and likewise for the largest value. \n",
    "Use int division to produce the final average. You may assume\n",
    "that the array is length 3 or more. \n",
    "\"\"\"\n",
    "\n",
    "def solution(ls):\n",
    "    ls = sorted(ls)\n",
    "\n",
    "    newls = ls[1:-1]\n",
    "    return int(sum(newls) / len(newls))\n",
    "\n",
    "\n",
    "assert solution([1, 2, 3, 4, 100]) == 3 \n",
    "assert solution([1, 1, 5, 5, 10, 8, 7]) == 5 \n",
    "assert solution([-10, -4, -2, -4, -2, 0]) == -3\n"
   ]
  },
  {
   "cell_type": "code",
   "execution_count": null,
   "id": "85dce835",
   "metadata": {},
   "outputs": [],
   "source": [
    "\"\"\"\n",
    "Find common words in 2 sentences\n",
    "\"\"\"\n",
    "\n",
    "\n",
    "\n",
    "\n",
    "assert solution(\"\", \"\") == set()\n",
    "assert solution(\"word\", \"word\") == {\"word\"}\n",
    "assert solution(\"\", \"word\") == set()\n",
    "assert solution(\n",
    "    \"Firstly this is the first string\",\n",
    "    \"Next is the second string\"\n",
    ") == {'string', 'is', 'the'}\n"
   ]
  },
  {
   "cell_type": "code",
   "execution_count": null,
   "id": "9ba9ceb3",
   "metadata": {},
   "outputs": [],
   "source": [
    "\"\"\"\n",
    "Count the number of times a substring appear in a string.\n",
    "\"\"\"\n",
    "\n",
    "\n",
    "\n",
    "\n",
    "\n",
    "assert solution(\"\", \"\") == 0\n",
    "assert solution(\"ab\", \"\") == 0\n",
    "assert solution(\"\", \"ab\") == 0\n",
    "assert solution(\"abaabba\", \"aba\") == 1\n",
    "assert solution(\"ababab\", \"ab\") == 3\n",
    "assert solution(\"aaaaaa\", \"aa\") == 5\n",
    "assert solution(\"azcbobobegghaklbob\", \"bob\") == 3"
   ]
  },
  {
   "cell_type": "code",
   "execution_count": null,
   "id": "ef666dca",
   "metadata": {},
   "outputs": [
    {
     "name": "stdout",
     "output_type": "stream",
     "text": [
      "a 1\n",
      "a 1\n",
      "b2 2\n",
      "a2 2\n",
      "a3 3\n",
      "a3 3\n"
     ]
    }
   ],
   "source": [
    "\"\"\"\n",
    "Flatten a nested dictionary.\n",
    "\"\"\"\n",
    "\n",
    "\n",
    "\n",
    "\n",
    "\n",
    "assert solution({}) == {}\n",
    "assert solution({\"a\": 1}) == {\"a\": 1}\n",
    "assert solution({\"a\": 1, \"b\": {\"b2\": 2}}) == {\"a\": 1, \"b_b2\": 2}\n",
    "assert solution({\"a\": {\"a2\": 2, \"a3\": 3}}) == {\"a_a2\": 2, \"a_a3\": 3}\n",
    "assert solution({\"a\": {\"a2\": {\"a3\": 3}}}) == {\"a_a2_a3\": 3}"
   ]
  },
  {
   "cell_type": "code",
   "execution_count": null,
   "id": "26af67a3",
   "metadata": {},
   "outputs": [],
   "source": [
    "\"\"\"\n",
    "Flatten a list.\n",
    "\"\"\"\n",
    "\n",
    "\n",
    "\n",
    "assert solution([]) == []\n",
    "assert solution([[]]) == []\n",
    "assert solution([1, 2]) == [1, 2]\n",
    "assert solution([1, [2, 3, 4]]) == [1, 2, 3, 4]\n",
    "assert solution([1, 2, [3, 4, [5], [6, 7, [8, [9]]]]]) == [\n",
    "    1, 2, 3, 4, 5, 6, 7, 8, 9]\n"
   ]
  },
  {
   "cell_type": "code",
   "execution_count": null,
   "id": "85b165e3",
   "metadata": {},
   "outputs": [
    {
     "name": "stdout",
     "output_type": "stream",
     "text": [
      "{'A': 1, 'B': 1}\n",
      "1\n",
      "['A', 'B']\n",
      "{'A': 1, 'B': 1}\n",
      "1\n",
      "['A', 'B']\n",
      "{'A': 4, 'B': 2, 'C': 2, 'D': 1}\n",
      "4\n",
      "['A']\n"
     ]
    }
   ],
   "source": [
    "\"\"\"\n",
    "Find the alphabet with highest neighbors\n",
    "\"\"\"\n",
    "\n",
    "\n",
    "\n",
    "\n",
    "assert solution([]) == []\n",
    "assert solution([[]]) == []\n",
    "assert solution([[\"A\"], [\"B\"]]) == [\"A\", \"B\"]\n",
    "assert solution([[\"A\", \"B\"]]) == [\"A\", \"B\"]\n",
    "assert solution([[\"A\"], [\"A\", \"B\"], [\"A\", \"C\"], [\"B\", \"D\"], [\"C\", \"A\"]]) == [\"A\"]"
   ]
  },
  {
   "cell_type": "code",
   "execution_count": null,
   "id": "08c7074a",
   "metadata": {},
   "outputs": [],
   "source": [
    "\"\"\"\n",
    "Given an array of integers, we would like to \n",
    "determine whether the array is monotonic \n",
    "(non-decreasing/non-increasing) or not.\n",
    "\"\"\"\n",
    "\n",
    "    \n",
    "\n",
    "assert solution([]) == True\n",
    "assert solution([1]) == True\n",
    "assert solution([1, 2]) == True\n",
    "assert solution([1, 2, 1]) == False\n",
    "assert solution([2, 1]) == True\n",
    "assert solution([1, 2, 5, 8]) == True\n",
    "assert solution([9, 4, 4, 2, 2]) == True\n",
    "assert solution([1, 4, 6, 3]) == False\n",
    "assert solution([1, 1, 1, 1, 1, 1]) == True"
   ]
  }
 ],
 "metadata": {
  "kernelspec": {
   "display_name": "3.11.12",
   "language": "python",
   "name": "python3"
  },
  "language_info": {
   "codemirror_mode": {
    "name": "ipython",
    "version": 3
   },
   "file_extension": ".py",
   "mimetype": "text/x-python",
   "name": "python",
   "nbconvert_exporter": "python",
   "pygments_lexer": "ipython3",
   "version": "3.11.12"
  }
 },
 "nbformat": 4,
 "nbformat_minor": 5
}
